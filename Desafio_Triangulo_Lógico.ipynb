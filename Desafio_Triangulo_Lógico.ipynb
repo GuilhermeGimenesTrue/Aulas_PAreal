{
  "nbformat": 4,
  "nbformat_minor": 0,
  "metadata": {
    "colab": {
      "provenance": [],
      "authorship_tag": "ABX9TyPAXojKWwyBuz9mN8fXR/Sb",
      "include_colab_link": true
    },
    "kernelspec": {
      "name": "python3",
      "display_name": "Python 3"
    },
    "language_info": {
      "name": "python"
    }
  },
  "cells": [
    {
      "cell_type": "markdown",
      "metadata": {
        "id": "view-in-github",
        "colab_type": "text"
      },
      "source": [
        "<a href=\"https://colab.research.google.com/github/GuilhermeGimenesTrue/Aulas_PAreal/blob/main/Desafio_Triangulo_L%C3%B3gico.ipynb\" target=\"_parent\"><img src=\"https://colab.research.google.com/assets/colab-badge.svg\" alt=\"Open In Colab\"/></a>"
      ]
    },
    {
      "cell_type": "markdown",
      "source": [
        "###**Pedir lado do triangulo**\n",
        "---"
      ],
      "metadata": {
        "id": "xJmIvH1hViaV"
      }
    },
    {
      "cell_type": "code",
      "execution_count": 6,
      "metadata": {
        "colab": {
          "base_uri": "https://localhost:8080/"
        },
        "id": "jgs8K0DmS4fG",
        "outputId": "f70f58ed-c5f0-4c12-af7e-276c10acb4ec"
      },
      "outputs": [
        {
          "name": "stdout",
          "output_type": "stream",
          "text": [
            "Me dê o primeiro lado do triangulo: 3\n",
            "Me dê o segundo lado do triangulo: 3\n",
            "Me dê o terceiro lado do triangulo: 3\n"
          ]
        }
      ],
      "source": [
        "a = float(input(\"Me dê o primeiro lado do triangulo: \"))\n",
        "b = float(input(\"Me dê o segundo lado do triangulo: \"))\n",
        "c = float(input(\"Me dê o terceiro lado do triangulo: \"))"
      ]
    },
    {
      "cell_type": "markdown",
      "source": [
        "### **É um triangulo?**\n",
        "\n",
        "---\n",
        "\n"
      ],
      "metadata": {
        "id": "CrJOYYfEV-zS"
      }
    },
    {
      "cell_type": "code",
      "source": [
        "triangulo = (a+b>c) and (b+c>a) and (a+c>b)\n",
        "print(\"Esse triangulo é: \",triangulo)"
      ],
      "metadata": {
        "colab": {
          "base_uri": "https://localhost:8080/"
        },
        "id": "kBP2EyUJWKrn",
        "outputId": "99fef6c2-ad1e-4c3f-c5e7-d9d931dd3599"
      },
      "execution_count": 12,
      "outputs": [
        {
          "output_type": "stream",
          "name": "stdout",
          "text": [
            "Esse triangulo é:  True\n"
          ]
        }
      ]
    },
    {
      "cell_type": "markdown",
      "source": [
        "### **É Equilatero?**\n",
        "\n",
        "---\n",
        "\n"
      ],
      "metadata": {
        "id": "R6jteWNdWMsU"
      }
    },
    {
      "cell_type": "code",
      "source": [
        "equilatero = (a==b) and (b==c) and (a==c) and (triangulo)\n",
        "print(\"Para equilatero ele é: \",equilatero)"
      ],
      "metadata": {
        "colab": {
          "base_uri": "https://localhost:8080/"
        },
        "id": "_AaHWSKuWW9k",
        "outputId": "63ec7a45-db8c-4dd8-b71f-9392630805f6"
      },
      "execution_count": 13,
      "outputs": [
        {
          "output_type": "stream",
          "name": "stdout",
          "text": [
            "Para equilatero ele é:  True\n"
          ]
        }
      ]
    },
    {
      "cell_type": "markdown",
      "source": [
        "### **É Escaleno?**\n",
        "\n",
        "---\n",
        "\n"
      ],
      "metadata": {
        "id": "qN0YjpbbW1WZ"
      }
    },
    {
      "cell_type": "code",
      "source": [
        "escaleno = (a!=b) and (b!=c) and (a!=c) and (triangulo)\n",
        "print(\"Para escaleno ele é: \",escaleno)\n"
      ],
      "metadata": {
        "colab": {
          "base_uri": "https://localhost:8080/"
        },
        "id": "he_k7ad7XBAG",
        "outputId": "5ca2a262-0b35-4612-c167-c84bc2e2be07"
      },
      "execution_count": 14,
      "outputs": [
        {
          "output_type": "stream",
          "name": "stdout",
          "text": [
            "Para escaleno ele é:  False\n"
          ]
        }
      ]
    },
    {
      "cell_type": "markdown",
      "source": [
        "### **É Isosceles?**"
      ],
      "metadata": {
        "id": "Bmtl38kZXJ1P"
      }
    },
    {
      "cell_type": "code",
      "source": [
        "iósceles =  ((a==b)^(a==c) and (b!=c)) or ((b==c)^(b==a)) and (triangulo)\n",
        "print(\"Para isosceles ele é: \",iósceles)"
      ],
      "metadata": {
        "colab": {
          "base_uri": "https://localhost:8080/"
        },
        "id": "nGPbXfk1XTQZ",
        "outputId": "1512bcb2-dbb5-4a6c-bc3d-4d89c6baf64c"
      },
      "execution_count": 15,
      "outputs": [
        {
          "output_type": "stream",
          "name": "stdout",
          "text": [
            "Para isosceles ele é:  False\n"
          ]
        }
      ]
    }
  ]
}