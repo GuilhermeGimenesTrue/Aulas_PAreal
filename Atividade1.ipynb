{
  "nbformat": 4,
  "nbformat_minor": 0,
  "metadata": {
    "colab": {
      "provenance": [],
      "authorship_tag": "ABX9TyPbDIkx+awd/woElV7Ry8Y2",
      "include_colab_link": true
    },
    "kernelspec": {
      "name": "python3",
      "display_name": "Python 3"
    },
    "language_info": {
      "name": "python"
    }
  },
  "cells": [
    {
      "cell_type": "markdown",
      "metadata": {
        "id": "view-in-github",
        "colab_type": "text"
      },
      "source": [
        "<a href=\"https://colab.research.google.com/github/GuilhermeGimenesTrue/Aulas_PAreal/blob/main/Atividade1.ipynb\" target=\"_parent\"><img src=\"https://colab.research.google.com/assets/colab-badge.svg\" alt=\"Open In Colab\"/></a>"
      ]
    },
    {
      "cell_type": "markdown",
      "source": [
        "### ***Exercícios***\n",
        "\n",
        "---\n",
        "\n"
      ],
      "metadata": {
        "id": "G_9ThK5wbh93"
      }
    },
    {
      "cell_type": "code",
      "execution_count": 17,
      "metadata": {
        "colab": {
          "base_uri": "https://localhost:8080/"
        },
        "id": "CpEdMgDyZPVQ",
        "outputId": "71fd1871-ffd3-4eab-e996-45327bad31c7"
      },
      "outputs": [
        {
          "output_type": "stream",
          "name": "stdout",
          "text": [
            "Me dê seu valor de Reais: 9827349724734657623456\n",
            "Sua conversão é  2.1838554943854795e+21\n"
          ]
        }
      ],
      "source": [
        "dolar = 4.50\n",
        "din = float(input(\"Me dê seu valor de Reais: \"))\n",
        "cnv = (din/dolar)\n",
        "print(\"Sua conversão é \",round(cnv,5))\n"
      ]
    },
    {
      "cell_type": "code",
      "source": [
        "N1 = float(input(\"Me dê o primeiro numero \"))\n",
        "N2 = float(input(\"Me dê o segundo numero \"))\n",
        "N3 = float(input(\"Me dê o terceiro numero \"))\n",
        "N4 = float(input(\"Me dê o quarto numero \"))\n",
        "\n",
        "N5 = ((N1*N1) + (N2*N2) + (N3*N3) + (N4*N4))\n",
        "\n",
        "print(N5)"
      ],
      "metadata": {
        "colab": {
          "base_uri": "https://localhost:8080/"
        },
        "id": "K74Zp3lObsFT",
        "outputId": "fafc491f-3cda-4f61-d065-a15e908c71dd"
      },
      "execution_count": 1,
      "outputs": [
        {
          "output_type": "stream",
          "name": "stdout",
          "text": [
            "Me dê o primeiro numero 6\n",
            "Me dê o segundo numero 6\n",
            "Me dê o terceiro numero 6\n",
            "Me dê o quarto numero 6\n",
            "144.0\n"
          ]
        }
      ]
    },
    {
      "cell_type": "code",
      "source": [
        "peca = 2.50\n",
        "ven = float(input(\"Me fale quantas peças você vendeu: \"))\n",
        "val = (ven*peca)\n",
        "com = val*0.05\n",
        "print(\"Sua comissão é: \",round(val,2),\"e sua comissão é: \",round(com,2))"
      ],
      "metadata": {
        "colab": {
          "base_uri": "https://localhost:8080/"
        },
        "id": "1ZuAsOG2EvuH",
        "outputId": "f75b171e-7d8d-4af0-fdfc-8d2179799393"
      },
      "execution_count": 21,
      "outputs": [
        {
          "output_type": "stream",
          "name": "stdout",
          "text": [
            "Me fale quantas peças você vendeu: 200\n",
            "Sua comissão é:  500.0 e sua comissão é:  25.0\n"
          ]
        }
      ]
    }
  ]
}