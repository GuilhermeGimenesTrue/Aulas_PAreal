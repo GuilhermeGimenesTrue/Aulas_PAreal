{
  "nbformat": 4,
  "nbformat_minor": 0,
  "metadata": {
    "colab": {
      "provenance": [],
      "authorship_tag": "ABX9TyOS7K1IYkBht/bJdgkX5Q6Q",
      "include_colab_link": true
    },
    "kernelspec": {
      "name": "python3",
      "display_name": "Python 3"
    },
    "language_info": {
      "name": "python"
    }
  },
  "cells": [
    {
      "cell_type": "markdown",
      "metadata": {
        "id": "view-in-github",
        "colab_type": "text"
      },
      "source": [
        "<a href=\"https://colab.research.google.com/github/GuilhermeGimenesTrue/Aulas_PAreal/blob/main/Atividade1.ipynb\" target=\"_parent\"><img src=\"https://colab.research.google.com/assets/colab-badge.svg\" alt=\"Open In Colab\"/></a>"
      ]
    },
    {
      "cell_type": "markdown",
      "source": [
        "### ***Exercícios***\n",
        "\n",
        "---\n",
        "\n"
      ],
      "metadata": {
        "id": "G_9ThK5wbh93"
      }
    },
    {
      "cell_type": "code",
      "execution_count": 17,
      "metadata": {
        "colab": {
          "base_uri": "https://localhost:8080/"
        },
        "id": "CpEdMgDyZPVQ",
        "outputId": "71fd1871-ffd3-4eab-e996-45327bad31c7"
      },
      "outputs": [
        {
          "output_type": "stream",
          "name": "stdout",
          "text": [
            "Me dê seu valor de Reais: 9827349724734657623456\n",
            "Sua conversão é  2.1838554943854795e+21\n"
          ]
        }
      ],
      "source": [
        "dolar = 4.50\n",
        "din = float(input(\"Me dê seu valor de Reais: \"))\n",
        "cnv = (din/dolar)\n",
        "print(\"Sua conversão é \",round(cnv,5))\n"
      ]
    },
    {
      "cell_type": "code",
      "source": [
        "N1 = float(input(\"Me dê o primeiro numero \"))\n",
        "N2 = float(input(\"Me dê o segundo numero \"))\n",
        "N3 = float(input(\"Me dê o terceiro numero \"))\n",
        "N4 = float(input(\"Me dê o quarto numero \"))\n",
        "\n",
        "N5 = ((N1*N1) + (N2*N2) + (N3*N3) + (N4*N4))\n",
        "\n",
        "print(N5)"
      ],
      "metadata": {
        "colab": {
          "base_uri": "https://localhost:8080/"
        },
        "id": "K74Zp3lObsFT",
        "outputId": "fafc491f-3cda-4f61-d065-a15e908c71dd"
      },
      "execution_count": 1,
      "outputs": [
        {
          "output_type": "stream",
          "name": "stdout",
          "text": [
            "Me dê o primeiro numero 6\n",
            "Me dê o segundo numero 6\n",
            "Me dê o terceiro numero 6\n",
            "Me dê o quarto numero 6\n",
            "144.0\n"
          ]
        }
      ]
    },
    {
      "cell_type": "code",
      "source": [
        "peca = 2.50\n",
        "ven = float(input(\"Me fale quantas peças você vendeu: \"))\n",
        "val = (ven*peca)\n",
        "com = val*0.05\n",
        "print(\"Sua comissão é: R$ \",round(val,2),\"e sua comissão é: R$ \",round(com,2))"
      ],
      "metadata": {
        "colab": {
          "base_uri": "https://localhost:8080/"
        },
        "id": "1ZuAsOG2EvuH",
        "outputId": "f75b171e-7d8d-4af0-fdfc-8d2179799393"
      },
      "execution_count": 21,
      "outputs": [
        {
          "output_type": "stream",
          "name": "stdout",
          "text": [
            "Me fale quantas peças você vendeu: 200\n",
            "Sua comissão é:  500.0 e sua comissão é:  25.0\n"
          ]
        }
      ]
    },
    {
      "cell_type": "code",
      "source": [
        "carro = float(input(\"Me dê o custo de fabrica: \"))\n",
        "imp = (carro*0.45) + carro\n",
        "dis = (imp*0.28) + imp\n",
        "print(\"O valor para consumidor é: R$\",round(dis,2))"
      ],
      "metadata": {
        "colab": {
          "base_uri": "https://localhost:8080/"
        },
        "id": "CRl7c2-9VOOn",
        "outputId": "a0e23fdf-659c-4d62-adc8-1730f85e3aeb"
      },
      "execution_count": 22,
      "outputs": [
        {
          "output_type": "stream",
          "name": "stdout",
          "text": [
            "Me dê o custo de fabrica: 25000.00\n",
            "O valor para consumidor é: R$ 46400.0\n"
          ]
        }
      ]
    },
    {
      "cell_type": "code",
      "source": [
        "hor = float(input(\"Me dê as horas palhaço: \"))\n",
        "min = float(input(\"Me dê os minutos palhaço: \"))\n",
        "min = min/60\n",
        "hor = hor+min\n",
        "seg = 3600*hor\n",
        "print(\"Seus segundos são: \",seg)"
      ],
      "metadata": {
        "colab": {
          "base_uri": "https://localhost:8080/"
        },
        "id": "zNSmrCFdXXzF",
        "outputId": "9c10c611-2fae-4b80-cca5-4c0179518649"
      },
      "execution_count": 24,
      "outputs": [
        {
          "output_type": "stream",
          "name": "stdout",
          "text": [
            "Me dê as horas palhaço: 1\n",
            "Me dê os minutos palhaço: 0\n",
            "Seus segundos são:  3600.0\n"
          ]
        }
      ]
    },
    {
      "cell_type": "code",
      "source": [
        "hor = float(input(\"Me dê as horas palhaço: \"))\n",
        "min = float(input(\"Me dê os minutos palhaço: \"))\n",
        "min = min/60\n",
        "hor = hor+min\n",
        "sal = float(input(\"Quanto ganhas por horas palhaço: \"))\n",
        "resul = (hor*sal)\n",
        "acre = resul * 0.70\n",
        "resulf = resul + acre\n",
        "print(\"Salario é igual a: R$\",round(resulf,2))"
      ],
      "metadata": {
        "colab": {
          "base_uri": "https://localhost:8080/"
        },
        "id": "DaTZIWwuZpiN",
        "outputId": "319b39ed-d4b8-447f-ddd7-d182dca921f8"
      },
      "execution_count": 26,
      "outputs": [
        {
          "output_type": "stream",
          "name": "stdout",
          "text": [
            "Me dê as horas palhaço: 15\n",
            "Me dê os minutos palhaço: 45\n",
            "Quanto ganhas por horas palhaço: 25\n",
            "Salario é igual a: R$ 669.38\n"
          ]
        }
      ]
    },
    {
      "cell_type": "code",
      "source": [
        "gasom = 4.50\n",
        "km = float(input(\"Quantos km chefe burro: \"))\n",
        "gaso = float(input(\"Quantos por litro chefe burro: \"))\n",
        "valorf = (km/gaso) * gasom\n",
        "print(\"O quanto ira gastar é: \",round(valorf,2))"
      ],
      "metadata": {
        "colab": {
          "base_uri": "https://localhost:8080/"
        },
        "id": "RJzUrVK7d8Wa",
        "outputId": "15966b33-de97-41d1-cdab-42a72ea0c4da"
      },
      "execution_count": 29,
      "outputs": [
        {
          "output_type": "stream",
          "name": "stdout",
          "text": [
            "Quantos km chefe burro: 450\n",
            "Quantos por litro chefe burro: 10\n",
            "O quanto ira gastar é:  202.5\n"
          ]
        }
      ]
    },
    {
      "cell_type": "code",
      "source": [
        "per = float(input(\"Quanto espaço: \"))\n",
        "hor = float(input(\"Em quantas horas: \"))\n",
        "min = float(input(\"Em quantos minutos: \"))\n",
        "minf = min/60\n",
        "tem = hor+minf\n",
        "resul = per/tem\n",
        "print(\"O quanto de km é: \",round(resul,2))"
      ],
      "metadata": {
        "colab": {
          "base_uri": "https://localhost:8080/"
        },
        "id": "Xgw4ANjSgMt0",
        "outputId": "41f871d8-2660-417a-f858-282dc8382029"
      },
      "execution_count": 32,
      "outputs": [
        {
          "output_type": "stream",
          "name": "stdout",
          "text": [
            "Quanto espaço: 150\n",
            "Em quantas horas: 1\n",
            "Em quantos minutos13\n",
            "O quanto de km é:  123.2876712328767 2\n"
          ]
        }
      ]
    }
  ]
}