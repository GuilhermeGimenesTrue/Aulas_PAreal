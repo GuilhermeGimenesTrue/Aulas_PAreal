{
  "nbformat": 4,
  "nbformat_minor": 0,
  "metadata": {
    "colab": {
      "provenance": [],
      "authorship_tag": "ABX9TyOaA6JMG6Cot6lxs576x2uF",
      "include_colab_link": true
    },
    "kernelspec": {
      "name": "python3",
      "display_name": "Python 3"
    },
    "language_info": {
      "name": "python"
    }
  },
  "cells": [
    {
      "cell_type": "markdown",
      "metadata": {
        "id": "view-in-github",
        "colab_type": "text"
      },
      "source": [
        "<a href=\"https://colab.research.google.com/github/GuilhermeGimenesTrue/Aulas_PAreal/blob/main/Estruturas_Condicionais_e_La%C3%A7os_de_Repeti%C3%A7%C3%A3o.ipynb\" target=\"_parent\"><img src=\"https://colab.research.google.com/assets/colab-badge.svg\" alt=\"Open In Colab\"/></a>"
      ]
    },
    {
      "cell_type": "markdown",
      "source": [
        "### **Estrururas Condicionais**"
      ],
      "metadata": {
        "id": "mefzJZ_hbfZm"
      }
    },
    {
      "cell_type": "code",
      "source": [
        "# @title Avaliar se um aluno foi aprovado caso sua media de três notas seja maior ou igual a 5\n",
        "\n",
        "# Aprovado media > 5\n",
        "# Reprovado media < 4\n",
        "# Recuperação media entre 4 e 5\n",
        "\n",
        "#Entrada das 3 notas\n",
        "n1 = float(input(\"Digite a primeira nota: \"))\n",
        "n2 = float(input(\"Digite a segunda nota: \"))\n",
        "n3 = float(input(\"Digite a terceira nota: \"))\n",
        "\n",
        "# Calcula a Média\n",
        "média = (n1 + n2 + n3)/3\n",
        "print(\"A média é: \",média)\n",
        "\n",
        "# Avalia a Média\n",
        "if (média>=5):\n",
        "  print(\"Aprovado\")\n",
        "else:\n",
        "  if (média<4):\n",
        "    print(\"Reprovado\")\n",
        "  else:\n",
        "    print(\"Está de Recuperação\")\n",
        "print(\"O programa acabou...\")"
      ],
      "metadata": {
        "colab": {
          "base_uri": "https://localhost:8080/"
        },
        "id": "CJtSK2S5bnoe",
        "outputId": "c5970b28-2f3d-40cd-d1af-02b833c2cd30"
      },
      "execution_count": 33,
      "outputs": [
        {
          "output_type": "stream",
          "name": "stdout",
          "text": [
            "Digite a primeira nota: 9\n",
            "Digite a segunda nota: 6\n",
            "Digite a terceira nota: 2\n",
            "A média é:  5.666666666666667\n",
            "Aprovado\n",
            "O programa acabou...\n"
          ]
        }
      ]
    }
  ]
}