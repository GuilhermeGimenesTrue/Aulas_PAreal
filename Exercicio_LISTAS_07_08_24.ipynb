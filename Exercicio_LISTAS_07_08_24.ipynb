{
  "nbformat": 4,
  "nbformat_minor": 0,
  "metadata": {
    "colab": {
      "provenance": [],
      "include_colab_link": true
    },
    "kernelspec": {
      "name": "python3",
      "display_name": "Python 3"
    },
    "language_info": {
      "name": "python"
    }
  },
  "cells": [
    {
      "cell_type": "markdown",
      "metadata": {
        "id": "view-in-github",
        "colab_type": "text"
      },
      "source": [
        "<a href=\"https://colab.research.google.com/github/GuilhermeGimenesTrue/Aulas_PAreal/blob/main/Exercicio_LISTAS_07_08_24.ipynb\" target=\"_parent\"><img src=\"https://colab.research.google.com/assets/colab-badge.svg\" alt=\"Open In Colab\"/></a>"
      ]
    },
    {
      "cell_type": "markdown",
      "source": [
        "# **Exercícios utilizando Listas Python**"
      ],
      "metadata": {
        "id": "Fv1r44TLwVKM"
      }
    },
    {
      "cell_type": "markdown",
      "source": [
        "## 1. Soma dos Elementos da Lista\n",
        "Dada uma lista de números, calcule a soma de todos os elementos."
      ],
      "metadata": {
        "id": "b9nEDJF0wjrc"
      }
    },
    {
      "cell_type": "code",
      "execution_count": 1,
      "metadata": {
        "id": "woHYcqQCwA-u",
        "colab": {
          "base_uri": "https://localhost:8080/"
        },
        "outputId": "13d86682-97d9-4770-888d-c0166615b0be"
      },
      "outputs": [
        {
          "output_type": "stream",
          "name": "stdout",
          "text": [
            "15\n"
          ]
        }
      ],
      "source": [
        "# Seu código aqui...\n",
        "lista = [1, 2, 3, 4, 5]\n",
        "soma = sum(lista)\n",
        "print(soma)"
      ]
    },
    {
      "cell_type": "markdown",
      "source": [
        "## 2. Produto dos elementos da lista\n",
        "Dada uma lista de números, calcule o produto de todos os elementos."
      ],
      "metadata": {
        "id": "jRKcmWKiw0z8"
      }
    },
    {
      "cell_type": "code",
      "source": [
        "# Seu código aqui...\n",
        "lista2 = [1, 2, 3, 4, 5]\n",
        "produto = 1\n",
        "for produto in lista2:\n",
        "  produto *= sum(lista2)\n",
        "print(produto)"
      ],
      "metadata": {
        "id": "fLbEGjowwaZe",
        "colab": {
          "base_uri": "https://localhost:8080/"
        },
        "outputId": "74c87429-a3b7-4b71-be13-6cda86986efd"
      },
      "execution_count": 28,
      "outputs": [
        {
          "output_type": "stream",
          "name": "stdout",
          "text": [
            "75\n"
          ]
        }
      ]
    },
    {
      "cell_type": "markdown",
      "source": [
        "## 3. Encontre o menor elemento\n",
        "Dada uma lista de números, encontre o menor elemento."
      ],
      "metadata": {
        "id": "-Er6OsAyxFQj"
      }
    },
    {
      "cell_type": "code",
      "source": [
        "# Seu código aqui...\n",
        "lista3 = [1, 2, 3, 4, 5]\n",
        "menor = min(lista3)\n",
        "print(menor)"
      ],
      "metadata": {
        "id": "KVoiJ_u0xKvc",
        "colab": {
          "base_uri": "https://localhost:8080/"
        },
        "outputId": "51c3c6d9-3892-43d0-b980-476b09237d47"
      },
      "execution_count": 2,
      "outputs": [
        {
          "output_type": "stream",
          "name": "stdout",
          "text": [
            "1\n"
          ]
        }
      ]
    },
    {
      "cell_type": "markdown",
      "source": [
        "## 4. Encontre o maior elemento\n",
        "Dada uma lista de números, encontre o maior elemento."
      ],
      "metadata": {
        "id": "WXYaMI7FxQXk"
      }
    },
    {
      "cell_type": "code",
      "source": [
        "# Seu código aqui...\n",
        "lista4 = [1, 2, 3, 4, 5]\n",
        "maior = max(lista)\n",
        "print(maior)"
      ],
      "metadata": {
        "id": "DoNhSLyuxb19",
        "colab": {
          "base_uri": "https://localhost:8080/"
        },
        "outputId": "64155ac8-0dfe-4359-ae8e-660779c7e9bb"
      },
      "execution_count": 3,
      "outputs": [
        {
          "output_type": "stream",
          "name": "stdout",
          "text": [
            "5\n"
          ]
        }
      ]
    },
    {
      "cell_type": "markdown",
      "source": [
        "## 5. Contar Ocorrências de um Elemento\n",
        "Dada uma lista de números e um número alvo, conte quantas vezes o alvo aparece na lista."
      ],
      "metadata": {
        "id": "BkHVHCiPxgTs"
      }
    },
    {
      "cell_type": "code",
      "source": [
        "# Seu código aqui...\n",
        "lista5 = [1, 2, 3, 4, 3, 2, 1]\n",
        "lista5.count(3)"
      ],
      "metadata": {
        "id": "Hreq56gixmYC",
        "colab": {
          "base_uri": "https://localhost:8080/"
        },
        "outputId": "ac706fae-b1a0-4abd-91d6-e8503bc4ee9f"
      },
      "execution_count": 4,
      "outputs": [
        {
          "output_type": "execute_result",
          "data": {
            "text/plain": [
              "2"
            ]
          },
          "metadata": {},
          "execution_count": 4
        }
      ]
    },
    {
      "cell_type": "markdown",
      "source": [
        "## 6. Remover duplicatas\n",
        "Dada uma lista de números, crie uma nova lista sem elementos duplicados."
      ],
      "metadata": {
        "id": "zSsy12F-xrVT"
      }
    },
    {
      "cell_type": "code",
      "source": [
        "# Seu código aqui...\n",
        "lista6 = [1, 2, 2, 3, 4, 4, 5]\n",
        "lista6.remove(2)\n",
        "lista6.remove(4)\n",
        "print(lista6)"
      ],
      "metadata": {
        "id": "9N35r8abxydM",
        "colab": {
          "base_uri": "https://localhost:8080/"
        },
        "outputId": "f860c53a-7716-4bb6-904e-95eef7c1e4d8"
      },
      "execution_count": 29,
      "outputs": [
        {
          "output_type": "stream",
          "name": "stdout",
          "text": [
            "[1, 2, 3, 4, 5]\n"
          ]
        }
      ]
    },
    {
      "cell_type": "markdown",
      "source": [
        "## 7. Inverter uma lista\n",
        "Dada uma lista de números, inverta a ordem dos elementos."
      ],
      "metadata": {
        "id": "Ev1YAUF9x3o8"
      }
    },
    {
      "cell_type": "code",
      "source": [
        "# Seu código aqui...\n",
        "lista6 = [1, 2, 3, 4, 5]\n",
        "lista6.reverse()\n",
        "lista6"
      ],
      "metadata": {
        "id": "X8YLy9uqx9kz",
        "colab": {
          "base_uri": "https://localhost:8080/"
        },
        "outputId": "03a18bdf-8464-4dbb-80c8-82fdfa4fa585"
      },
      "execution_count": 8,
      "outputs": [
        {
          "output_type": "execute_result",
          "data": {
            "text/plain": [
              "[5, 4, 3, 2, 1]"
            ]
          },
          "metadata": {},
          "execution_count": 8
        }
      ]
    },
    {
      "cell_type": "markdown",
      "source": [
        "## 8. Intercalar Duas Listas\n",
        "Dadas duas listas de números, crie uma nova lista intercalando os elementos das duas listas."
      ],
      "metadata": {
        "id": "1k2bPDTPyB-L"
      }
    },
    {
      "cell_type": "code",
      "source": [
        "# Seu código aqui...\n",
        "lista81 = [1, 3, 5]\n",
        "lista82 = [2, 4, 6]\n",
        "lista83 = []\n",
        "lista81.extend(lista82)\n",
        "lista81.sort()\n",
        "lista83.extend(lista81)\n",
        "print(lista83)"
      ],
      "metadata": {
        "id": "TXajIrGxyH3j",
        "colab": {
          "base_uri": "https://localhost:8080/"
        },
        "outputId": "8f14bebe-4bc1-487a-8c5b-e8975e80cd3e"
      },
      "execution_count": 26,
      "outputs": [
        {
          "output_type": "stream",
          "name": "stdout",
          "text": [
            "[1, 2, 3, 4, 5, 6]\n"
          ]
        }
      ]
    },
    {
      "cell_type": "markdown",
      "source": [
        "## 9. Somar Elementos Correspondentes de Duas Listas\n",
        "Dadas duas listas de números de mesmo tamanho, crie uma nova lista com a soma dos elementos correspondentes."
      ],
      "metadata": {
        "id": "ewiPtV9MyP1q"
      }
    },
    {
      "cell_type": "code",
      "source": [
        "# Seu código aqui...\n",
        "lista91 = [1, 2, 3]\n",
        "lista92 = [4, 5, 6]\n",
        "lista91.append(lista92)\n",
        "lista24 = lista91\n",
        "print(lista24)"
      ],
      "metadata": {
        "id": "0-4qe89uyVWT",
        "colab": {
          "base_uri": "https://localhost:8080/"
        },
        "outputId": "6db63a62-6437-44b1-c8fe-24f59cafb261"
      },
      "execution_count": 13,
      "outputs": [
        {
          "output_type": "stream",
          "name": "stdout",
          "text": [
            "[1, 2, 3, [4, 5, 6]]\n"
          ]
        }
      ]
    },
    {
      "cell_type": "markdown",
      "source": [
        "## 10. Mover Zeros para o Fim\n",
        "Dada uma lista de números, mova todos os zeros para o final da lista."
      ],
      "metadata": {
        "id": "QX-QkQg5ybQa"
      }
    },
    {
      "cell_type": "code",
      "source": [
        "# Seu código aqui...\n",
        "lista10 = [0, 1, 0, 3, 12]\n",
        "lista10.remove(0)\n",
        "lista10.remove(0)\n",
        "lista10.append(0)\n",
        "lista10.append(0)\n",
        "print(lista10)"
      ],
      "metadata": {
        "id": "i8jHZT30ygD6",
        "colab": {
          "base_uri": "https://localhost:8080/"
        },
        "outputId": "ebc8af68-79d7-4ec5-e57d-8845a008a6db"
      },
      "execution_count": 20,
      "outputs": [
        {
          "output_type": "stream",
          "name": "stdout",
          "text": [
            "[1, 3, 12, 0, 0]\n"
          ]
        }
      ]
    }
  ]
}