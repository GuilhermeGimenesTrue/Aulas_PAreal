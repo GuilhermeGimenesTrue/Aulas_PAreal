{
  "nbformat": 4,
  "nbformat_minor": 0,
  "metadata": {
    "colab": {
      "provenance": [],
      "authorship_tag": "ABX9TyMKklJC9XtztDgZnVw3Iegg",
      "include_colab_link": true
    },
    "kernelspec": {
      "name": "python3",
      "display_name": "Python 3"
    },
    "language_info": {
      "name": "python"
    }
  },
  "cells": [
    {
      "cell_type": "markdown",
      "metadata": {
        "id": "view-in-github",
        "colab_type": "text"
      },
      "source": [
        "<a href=\"https://colab.research.google.com/github/GuilhermeGimenesTrue/Aulas_PAreal/blob/main/22_05_2024.ipynb\" target=\"_parent\"><img src=\"https://colab.research.google.com/assets/colab-badge.svg\" alt=\"Open In Colab\"/></a>"
      ]
    },
    {
      "cell_type": "markdown",
      "source": [
        "### ***Faça um contador de 1 a 10 utilizando FOR e WHILE***"
      ],
      "metadata": {
        "id": "4wLRZ15Xe22q"
      }
    },
    {
      "cell_type": "code",
      "execution_count": null,
      "metadata": {
        "colab": {
          "base_uri": "https://localhost:8080/"
        },
        "id": "K1l40WNxeipR",
        "outputId": "38195bb5-e439-4372-ffe0-f08b419adbc4"
      },
      "outputs": [
        {
          "output_type": "stream",
          "name": "stdout",
          "text": [
            "1\n",
            "2\n",
            "3\n",
            "4\n",
            "5\n",
            "6\n",
            "7\n",
            "8\n",
            "9\n",
            "10\n"
          ]
        }
      ],
      "source": [
        "for i in range(1,11):\n",
        "  print(i)"
      ]
    },
    {
      "cell_type": "code",
      "source": [
        "n1 = 0\n",
        "\n",
        "while n1 < 10:\n",
        "  n1 += 1\n",
        "  print(n1)"
      ],
      "metadata": {
        "colab": {
          "base_uri": "https://localhost:8080/"
        },
        "id": "F8kf_Pc4e_bW",
        "outputId": "7506847b-0e2b-471a-f029-31fc504225a7"
      },
      "execution_count": null,
      "outputs": [
        {
          "output_type": "stream",
          "name": "stdout",
          "text": [
            "1\n",
            "2\n",
            "3\n",
            "4\n",
            "5\n",
            "6\n",
            "7\n",
            "8\n",
            "9\n",
            "10\n"
          ]
        }
      ]
    },
    {
      "cell_type": "code",
      "source": [
        "for i in range(1,11):\n",
        "  print(i,'',end='')"
      ],
      "metadata": {
        "colab": {
          "base_uri": "https://localhost:8080/"
        },
        "id": "UNLm_MXmgQRK",
        "outputId": "b23adc1d-eb62-4f45-8295-10e24ed4d00a"
      },
      "execution_count": 6,
      "outputs": [
        {
          "output_type": "stream",
          "name": "stdout",
          "text": [
            "1 2 3 4 5 6 7 8 9 10 "
          ]
        }
      ]
    },
    {
      "cell_type": "code",
      "source": [
        "n1 = 0\n",
        "\n",
        "while n1<10:\n",
        "  n1 += 1\n",
        "  print(n1,'',end='')"
      ],
      "metadata": {
        "colab": {
          "base_uri": "https://localhost:8080/"
        },
        "id": "K3ToMtxMgaR6",
        "outputId": "f2f0e993-37c3-4dc3-ce18-6021c83c9697"
      },
      "execution_count": 7,
      "outputs": [
        {
          "output_type": "stream",
          "name": "stdout",
          "text": [
            "1 2 3 4 5 6 7 8 9 10 "
          ]
        }
      ]
    },
    {
      "cell_type": "markdown",
      "source": [
        "### ***Faça o contador acima de 1 até 10 só que agora imprimindo a seguinte mensagem:***\n",
        "\n",
        "Volta Nº 1 ===> 0\n",
        "Volta Nº 2 ===> 1\n",
        "Volta Nº 3 ===> 2\n",
        "\n",
        "--\n",
        "\n",
        "Volta Nº 10 ==>9\n",
        "\n",
        "\n",
        "---\n",
        "\n"
      ],
      "metadata": {
        "id": "pqowOtLrhSmb"
      }
    },
    {
      "cell_type": "code",
      "source": [
        "#vol = 0\n",
        "\n",
        "for i in range (10):\n",
        "  #vol +=1\n",
        "  #print(\"Volta Nº\",i+i,\" ===>\",i)\n",
        "  print(f'Volta Nº {i+i}  ===>i')\n"
      ],
      "metadata": {
        "colab": {
          "base_uri": "https://localhost:8080/"
        },
        "id": "ghmVvPsIh3MQ",
        "outputId": "be0e832d-020f-46db-f04f-50ef8b66ef9b"
      },
      "execution_count": 17,
      "outputs": [
        {
          "output_type": "stream",
          "name": "stdout",
          "text": [
            "Volta Nº 0  ===>i\n",
            "Volta Nº 2  ===>i\n",
            "Volta Nº 4  ===>i\n",
            "Volta Nº 6  ===>i\n",
            "Volta Nº 8  ===>i\n",
            "Volta Nº 10  ===>i\n",
            "Volta Nº 12  ===>i\n",
            "Volta Nº 14  ===>i\n",
            "Volta Nº 16  ===>i\n",
            "Volta Nº 18  ===>i\n"
          ]
        }
      ]
    },
    {
      "cell_type": "markdown",
      "source": [
        "Faça o contador acima de 0 até 9 só que agora imprimindo a seguinte mensagem:\n",
        "\n",
        "Volta Nº 1 ===> 0 ===> PAR\n",
        "Vokta Nº 2 ===> 1\n",
        "Volta Nº 3 ===> 2 ===> PAR"
      ],
      "metadata": {
        "id": "n3tF6xLkkBLs"
      }
    },
    {
      "cell_type": "code",
      "source": [
        "for i in range(10):\n",
        "  if i % 2 == 0:\n",
        "    print(f'Volta º {i+I} ===> {i} ===> PAR')\n",
        "  else:\n",
        "    print(f'Volta º {i+i} ===> {i}')"
      ],
      "metadata": {
        "colab": {
          "base_uri": "https://localhost:8080/"
        },
        "id": "17dT1DzskcCo",
        "outputId": "216bb853-6264-43bb-de88-f888a4dbc987"
      },
      "execution_count": 20,
      "outputs": [
        {
          "output_type": "stream",
          "name": "stdout",
          "text": [
            "Volta º 2 ===> 1\n",
            "Volta º 2 ===> 2 ===> PAR\n",
            "Volta º 6 ===> 3\n",
            "Volta º 4 ===> 4 ===> PAR\n",
            "Volta º 10 ===> 5\n",
            "Volta º 6 ===> 6 ===> PAR\n",
            "Volta º 14 ===> 7\n",
            "Volta º 8 ===> 8 ===> PAR\n",
            "Volta º 18 ===> 9\n"
          ]
        }
      ]
    },
    {
      "cell_type": "markdown",
      "source": [
        "Faça um programa que mostre a soma de 1 até 100"
      ],
      "metadata": {
        "id": "Mgs6Wz9LldWU"
      }
    },
    {
      "cell_type": "code",
      "source": [
        "#for i in range(1,101):\n",
        "  #print(i)\n",
        "\n",
        "#i = 0\n",
        "#n1 = 0\n",
        "\n",
        "while i<100:\n",
        "  i += 1\n",
        "  n1 += i\n",
        "print(n1)\n",
        "\n",
        "#total = 0\n",
        "\n",
        "#for i in range(1,101):\n",
        "  #total += 1\n",
        "#print('Total somado: ',total)"
      ],
      "metadata": {
        "colab": {
          "base_uri": "https://localhost:8080/"
        },
        "id": "iO3FrkNXlkBZ",
        "outputId": "76a69c2f-af03-41fc-d2d7-eec9dd4a6929"
      },
      "execution_count": 31,
      "outputs": [
        {
          "output_type": "stream",
          "name": "stdout",
          "text": [
            "0\n"
          ]
        }
      ]
    },
    {
      "cell_type": "markdown",
      "source": [
        "Faça um programa que receba um número inteiro digitado pelo usuário e o informe se é primo ou não"
      ],
      "metadata": {
        "id": "ybyrtpsFmulu"
      }
    },
    {
      "cell_type": "code",
      "source": [
        "n1 = int(input(\"Digite um numero intero: \"))\n",
        "zeros = 0\n",
        "\n",
        "if (n1 == 0 or n1 < 0):\n",
        "  print(\"Numero Invalido\")\n",
        "else:\n",
        "  if (n1 == 0 or n1 == 1):\n",
        "    print('Por definição 0 ou 1 não é primo')\n",
        "  else:\n",
        "    #print(\"Aqui entra os calculos\")\n",
        "    for i in range(1,n1+1):\n",
        "      res = n1 % i\n",
        "      if (res == 0):\n",
        "        zeros += 1\n",
        "    print(f'A quantidade de restos são: {zeros}')\n",
        "    if (zeros >= 3):\n",
        "      print(\"Isso não é um numero primo\")\n",
        "    else:\n",
        "      print(\"Ele é um numero primo\")"
      ],
      "metadata": {
        "colab": {
          "base_uri": "https://localhost:8080/"
        },
        "id": "yUpMj_O9m3kL",
        "outputId": "7fcbb46c-aecc-4155-f445-e1348bbb211e"
      },
      "execution_count": 47,
      "outputs": [
        {
          "output_type": "stream",
          "name": "stdout",
          "text": [
            "Digite um numero intero: 16\n",
            "A quantidade de restos são: 5\n",
            "Isso não é um numero primo\n"
          ]
        }
      ]
    },
    {
      "cell_type": "markdown",
      "source": [
        "Escreva um programa que imprima o n-ésimo elemento de uma série de Fibonacci. Esse valor será digitado pelo usuário.\n",
        "Exemplo:\n",
        "\n",
        "numero = 4\n",
        "\n",
        "saída: 1 - 1 - 2 - 3 - 5\n",
        "\n",
        "numero = 5\n",
        "\n",
        "saída = 1 - 1 - 2 - 3 - 5 - 8"
      ],
      "metadata": {
        "id": "X8QG1nNixMks"
      }
    },
    {
      "cell_type": "code",
      "source": [
        "n2 = 0\n",
        "n3 = 1\n",
        "n4 = 0\n",
        "\n",
        "n1 = int(input(\"Me dê um numero para os termos: \"))\n",
        "for i in range(1,n1+1):\n",
        "  n4 = n2+n3\n",
        "  n2 = n3\n",
        "  n3 = n4\n",
        "  print(f'{i}º Termo = {n2}')\n",
        "\n",
        "\n",
        ""
      ],
      "metadata": {
        "colab": {
          "base_uri": "https://localhost:8080/"
        },
        "id": "C-0Yn9aUywho",
        "outputId": "7342d3ec-e429-47ec-f19d-24d3ffbaa170"
      },
      "execution_count": 56,
      "outputs": [
        {
          "output_type": "stream",
          "name": "stdout",
          "text": [
            "Me dê um numero para os termos: 5\n",
            "1º Termo = 1\n",
            "2º Termo = 1\n",
            "3º Termo = 2\n",
            "4º Termo = 3\n",
            "5º Termo = 5\n"
          ]
        }
      ]
    },
    {
      "cell_type": "code",
      "source": [
        "n2 = 0\n",
        "n3 = 1\n",
        "n4 = 0\n",
        "n5 = 0\n",
        "\n",
        "n1 = int(input(\"Me dê um numero para os termos: \"))\n",
        "for i in range(1,n1+1):\n",
        "  n4 = n2+n3\n",
        "  n2 = n3\n",
        "  n3 = n4\n",
        "  n5 += n2\n",
        "  print(f'{i}º Termo = {n2}')\n",
        "print(n5)\n",
        ""
      ],
      "metadata": {
        "colab": {
          "base_uri": "https://localhost:8080/"
        },
        "id": "jf9oYk2X-XvV",
        "outputId": "955029fe-34b5-4fa7-e83e-cada6093ebf6"
      },
      "execution_count": 60,
      "outputs": [
        {
          "output_type": "stream",
          "name": "stdout",
          "text": [
            "Me dê um numero para os termos: 6\n",
            "1º Termo = 1\n",
            "2º Termo = 1\n",
            "3º Termo = 2\n",
            "4º Termo = 3\n",
            "5º Termo = 5\n",
            "6º Termo = 8\n",
            "20\n"
          ]
        }
      ]
    }
  ]
}